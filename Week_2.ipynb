{
 "cells": [
  {
   "cell_type": "markdown",
   "metadata": {},
   "source": [
    "# Week 2 handin"
   ]
  },
  {
   "cell_type": "code",
   "execution_count": null,
   "metadata": {},
   "outputs": [],
   "source": [
    "## Assignment\n",
    "/notebooks/02-Exercise.ipynb"
   ]
  },
  {
   "cell_type": "code",
   "execution_count": null,
   "metadata": {},
   "outputs": [],
   "source": [
    "## Status\n",
    "All done, exercise 1.2 +1.3, see separate file ex2.py"
   ]
  },
  {
   "cell_type": "markdown",
   "metadata": {},
   "source": [
    "## Solution part 1"
   ]
  },
  {
   "cell_type": "code",
   "execution_count": 4,
   "metadata": {},
   "outputs": [],
   "source": [
    "# 1.A Function reads .csv file named file2\n",
    "import csv\n",
    "\n",
    "def print_file_content(file):\n",
    "    with open(file, 'r')as f:\n",
    "        data = csv.reader(f)\n",
    "        for row in data:\n",
    "            print(row)\n",
    "\n",
    "print_file_content('file2.csv')"
   ]
  },
  {
   "cell_type": "code",
   "execution_count": null,
   "metadata": {},
   "outputs": [],
   "source": [
    "# 1.B\n",
    "import csv\n",
    "\n",
    "tupls = [(8, 'rfa'), (8, 'acc-raid'), (7, 'rapidbase'), (7, 'rcts'), (7, 'tve-announce'), (5, 'mysql-im'),\n",
    "         (5, 'telnetcpcd'), (9,'kotlin')]\n",
    "\n",
    "def write_list_to_file(output_file, lst):\n",
    "    with open(output_file, \"w\", newline='') as the_file:\n",
    "        writer = csv.writer(the_file)\n",
    "        for tup in lst:\n",
    "            writer.writerow(tup)\n",
    "\n",
    "write_list_to_file('tupls.csv', tupls)"
   ]
  },
  {
   "cell_type": "code",
   "execution_count": null,
   "metadata": {},
   "outputs": [],
   "source": [
    "# 1.B.a Write multiple strings to file\n",
    "def write_strings_to_file(filename, *strings):\n",
    "    with open(filename, 'w') as file_object:\n",
    "        for streng in strings:\n",
    "            file_object.write(streng+'\\n')\n",
    "\n",
    "write_strings_to_file('strenge.txt', \"Et\",\"To\",\"Tre\")"
   ]
  },
  {
   "cell_type": "code",
   "execution_count": null,
   "metadata": {},
   "outputs": [],
   "source": [
    "# 1.C Read rows from csv into a list\n",
    "import csv\n",
    "\n",
    "my_list = list()\n",
    "\n",
    "def read_csv(input_file):\n",
    "    with open(input_file) as f:\n",
    "        reader = csv.reader(f)\n",
    "        header_row = next(reader)\n",
    "        for row in reader:\n",
    "            my_list.append(row)\n",
    "        return my_list\n",
    "print(read_csv('file2.csv'))"
   ]
  },
  {
   "cell_type": "code",
   "execution_count": null,
   "metadata": {},
   "outputs": [],
   "source": [
    "# 2.A + B +C, see file ex2.py\n"
   ]
  },
  {
   "cell_type": "markdown",
   "metadata": {},
   "source": [
    "## Solution part 2"
   ]
  },
  {
   "cell_type": "code",
   "execution_count": null,
   "metadata": {},
   "outputs": [],
   "source": []
  },
  {
   "cell_type": "code",
   "execution_count": null,
   "metadata": {},
   "outputs": [],
   "source": []
  },
  {
   "cell_type": "code",
   "execution_count": null,
   "metadata": {},
   "outputs": [],
   "source": []
  }
 ],
 "metadata": {
  "kernelspec": {
   "display_name": "Python 3",
   "language": "python",
   "name": "python3"
  },
  "language_info": {
   "codemirror_mode": {
    "name": "ipython",
    "version": 3
   },
   "file_extension": ".py",
   "mimetype": "text/x-python",
   "name": "python",
   "nbconvert_exporter": "python",
   "pygments_lexer": "ipython3",
   "version": "3.7.6"
  }
 },
 "nbformat": 4,
 "nbformat_minor": 4
}
