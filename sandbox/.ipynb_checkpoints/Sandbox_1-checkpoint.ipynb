{
 "cells": [
  {
   "cell_type": "markdown",
   "metadata": {},
   "source": [
    "#week 9.2 exercise"
   ]
  },
  {
   "cell_type": "code",
   "execution_count": null,
   "metadata": {},
   "outputs": [],
   "source": [
    "%pylab inline"
   ]
  },
  {
   "cell_type": "code",
   "execution_count": 25,
   "metadata": {},
   "outputs": [
    {
     "name": "stdout",
     "output_type": "stream",
     "text": [
      "         Is  Juice  Kakao  Lagkager\n",
      "Paula     4      2      3         2\n",
      "Peter     2      5      0         4\n",
      "Pandora   5      3      4         5\n",
      "Pietro    1      8      9         1\n",
      "          Netto  Fakta\n",
      "Is        10.50   4.00\n",
      "Juice      2.25   4.50\n",
      "Kakao      4.50   6.25\n",
      "Lagkager  33.50  20.00\n",
      "(4, 4)\n",
      "(4, 2)\n",
      "(4, 2)\n",
      "[[10.5   4.  ]\n",
      " [ 2.25  4.5 ]\n",
      " [ 4.5   6.25]\n",
      " [33.5  20.  ]]\n",
      "[[4 2 3 2]\n",
      " [2 5 0 4]\n",
      " [5 3 4 5]\n",
      " [1 8 9 1]]\n",
      "[[127.    83.75]\n",
      " [166.25 110.5 ]\n",
      " [244.75 158.5 ]\n",
      " [102.5  116.25]]\n"
     ]
    }
   ],
   "source": [
    "import pandas as pd\n",
    "import numpy as np\n",
    "\n",
    "shoppers = {\n",
    "'Paula':{'Is':4,'Juice':2,'Kakao':3,'Lagkager':2},\n",
    "'Peter':{'Is':2,'Juice':5,'Kakao':0, 'Lagkager':4},\n",
    "'Pandora':{'Is':5,'Juice':3, 'Kakao':4, 'Lagkager':5},\n",
    "'Pietro':{'Is':1,'Juice':8, 'Kakao':9, 'Lagkager':1}\n",
    "}\n",
    "shop_prices = {\n",
    "    'Netto': {'Is':10.50,'Juice':2.25,'Kakao':4.50,'Lagkager':33.50},\n",
    "    'Fakta': {'Is':4.00,'Juice':4.50,'Kakao':6.25,'Lagkager':20.00}\n",
    "}\n",
    "\n",
    "df = pd.DataFrame(shoppers).T\n",
    "df2 = pd.DataFrame(shop_prices)\n",
    "\n",
    "print(df)\n",
    "print(df2)\n",
    "\n",
    "P = df.to_numpy()\n",
    "Q = df2.to_numpy()\n",
    "\n",
    "print(P.shape)\n",
    "print(Q.shape)\n",
    "\n",
    "Q.T.shape\n",
    "print(Q.shape)\n",
    "\n",
    "print(Q)\n",
    "print(P)\n",
    "\n",
    "R = P.dot(Q)\n",
    "print(R)"
   ]
  },
  {
   "cell_type": "code",
   "execution_count": null,
   "metadata": {},
   "outputs": [],
   "source": []
  }
 ],
 "metadata": {
  "kernelspec": {
   "display_name": "Python 3",
   "language": "python",
   "name": "python3"
  },
  "language_info": {
   "codemirror_mode": {
    "name": "ipython",
    "version": 3
   },
   "file_extension": ".py",
   "mimetype": "text/x-python",
   "name": "python",
   "nbconvert_exporter": "python",
   "pygments_lexer": "ipython3",
   "version": "3.7.6"
  }
 },
 "nbformat": 4,
 "nbformat_minor": 2
}
