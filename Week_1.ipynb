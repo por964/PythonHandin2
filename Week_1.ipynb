{
 "cells": [
  {
   "cell_type": "markdown",
   "metadata": {},
   "source": [
    "# Week 1 handin"
   ]
  },
  {
   "cell_type": "markdown",
   "metadata": {},
   "source": [
    "## 01 Assignment\n",
    "Here is the text for the assignment linked to"
   ]
  },
  {
   "cell_type": "markdown",
   "metadata": {},
   "source": [
    "## 02 Status\n",
    "1 & 2: All exercises solved, 3 (optional) not solved"
   ]
  },
  {
   "cell_type": "markdown",
   "metadata": {},
   "source": [
    "## 03 Solution part 1"
   ]
  },
  {
   "cell_type": "code",
   "execution_count": 2,
   "metadata": {},
   "outputs": [
    {
     "name": "stdout",
     "output_type": "stream",
     "text": [
      "['Helle', 'Hans', 'Henning']\n"
     ]
    }
   ],
   "source": [
    "#1.A names starting with H\n",
    "names = [\"Helle\", \"Niels\", \"Hans\", \"Ole\", \"John\", \"Henning\"]\n",
    "new_names = [n for n in names if \"H\" in n[0]]\n",
    "print(new_names)"
   ]
  },
  {
   "cell_type": "code",
   "execution_count": 4,
   "metadata": {},
   "outputs": [
    {
     "name": "stdout",
     "output_type": "stream",
     "text": [
      "[[0, 1, 8, 27, 64, 125, 216, 343, 512, 729, 1000, 1331, 1728, 2197, 2744, 3375, 4096, 4913, 5832, 6859, 8000, 9261, 10648, 12167, 13824, 15625, 17576, 19683, 21952, 24389, 27000, 29791, 32768, 35937, 39304, 42875, 46656, 50653, 54872, 59319, 64000, 68921, 74088, 79507, 85184, 91125, 97336, 103823, 110592, 117649, 125000, 132651, 140608, 148877, 157464, 166375, 175616, 185193, 195112, 205379, 216000, 226981, 238328, 250047, 262144, 274625, 287496, 300763, 314432, 328509, 343000, 357911, 373248, 389017, 405224, 421875, 438976, 456533, 474552, 493039, 512000, 531441, 551368, 571787, 592704, 614125, 636056, 658503, 681472, 704969, 729000, 753571, 778688, 804357, 830584, 857375, 884736, 912673, 941192, 970299, 1000000]]\n"
     ]
    }
   ],
   "source": [
    "# 1.B 0-100 to the power of 3\n",
    "power_of3 = [[i**3 for i in range(101)]]\n",
    "print(power_of3)"
   ]
  },
  {
   "cell_type": "code",
   "execution_count": 5,
   "metadata": {},
   "outputs": [
    {
     "name": "stdout",
     "output_type": "stream",
     "text": [
      "[(5, 'Helle'), (5, 'Niels'), (4, 'Hans'), (3, 'Ole'), (4, 'John'), (7, 'Henning')]\n"
     ]
    }
   ],
   "source": [
    "# 1.C list of tuples with namelength and name\n",
    "names = [\"Helle\", \"Niels\", \"Hans\", \"Ole\", \"John\", \"Henning\"]\n",
    "new_names = []\n",
    "for n in names:\n",
    "    tupl_name = (len(n), n)\n",
    "    new_names.append(tupl_name)\n",
    "print(new_names)    "
   ]
  },
  {
   "cell_type": "code",
   "execution_count": 7,
   "metadata": {},
   "outputs": [
    {
     "name": "stdout",
     "output_type": "stream",
     "text": [
      "1\n",
      "2\n",
      "3\n"
     ]
    }
   ],
   "source": [
    "# 1.D get numerics only from String\n",
    "word = \"alpha1num2eric3\"\n",
    "for char in word:\n",
    "    if char.isdigit():\n",
    "        print(char)"
   ]
  },
  {
   "cell_type": "code",
   "execution_count": 1,
   "metadata": {},
   "outputs": [
    {
     "name": "stdout",
     "output_type": "stream",
     "text": [
      "{(1, 3), (6, 6), (5, 6), (2, 1), (6, 2), (1, 6), (5, 1), (2, 5), (1, 2), (3, 3), (5, 5), (4, 4), (6, 3), (1, 5), (3, 6), (2, 2), (4, 1), (1, 1), (6, 4), (3, 2), (2, 6), (5, 4), (4, 5), (5, 2), (1, 4), (2, 3), (4, 2), (6, 5), (3, 5), (5, 3), (4, 6), (6, 1), (3, 1), (4, 3), (3, 4), (2, 4)}\n",
      "36\n"
     ]
    }
   ],
   "source": [
    "# 1.E all combinations 2 dice\n",
    "roll_combinations = set((d1, d2) for d1 in range(1, 7) for d2 in range(1, 7))\n",
    "print(roll_combinations)\n",
    "print(len(roll_combinations))"
   ]
  },
  {
   "cell_type": "markdown",
   "metadata": {},
   "source": [
    "## 04 Solution part 2"
   ]
  },
  {
   "cell_type": "code",
   "execution_count": 1,
   "metadata": {},
   "outputs": [
    {
     "name": "stdout",
     "output_type": "stream",
     "text": [
      "{'Helle': 5, 'Niels': 5, 'Hans': 4, 'Ole': 3, 'John': 4, 'Henning': 7}\n"
     ]
    }
   ],
   "source": [
    "# 2.A key = name : value=name_length\n",
    "names = [\"Helle\", \"Niels\", \"Hans\", \"Ole\", \"John\", \"Henning\"]\n",
    "names_length = { i : len(i) for i in names }\n",
    "print(names_length)"
   ]
  },
  {
   "cell_type": "code",
   "execution_count": 3,
   "metadata": {},
   "outputs": [
    {
     "name": "stdout",
     "output_type": "stream",
     "text": [
      "{2: 4, 4: 16, 6: 36, 8: 64, 10: 100}\n"
     ]
    }
   ],
   "source": [
    "# 2.B key number : value number_squared\n",
    "nums = [2,4,6,8,10]\n",
    "num_sqrd = { i : i**2 for i in nums }\n",
    "print(num_sqrd)"
   ]
  },
  {
   "cell_type": "code",
   "execution_count": null,
   "metadata": {},
   "outputs": [],
   "source": []
  }
 ],
 "metadata": {
  "kernelspec": {
   "display_name": "Python 3",
   "language": "python",
   "name": "python3"
  },
  "language_info": {
   "codemirror_mode": {
    "name": "ipython",
    "version": 3
   },
   "file_extension": ".py",
   "mimetype": "text/x-python",
   "name": "python",
   "nbconvert_exporter": "python",
   "pygments_lexer": "ipython3",
   "version": "3.7.6"
  }
 },
 "nbformat": 4,
 "nbformat_minor": 4
}