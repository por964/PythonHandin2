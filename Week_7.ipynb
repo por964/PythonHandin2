{
 "cells": [
  {
   "cell_type": "markdown",
   "metadata": {},
   "source": [
    "# Week 7 handin"
   ]
  },
  {
   "cell_type": "markdown",
   "metadata": {},
   "source": [
    "## 01 Assignment\n",
    "Here is the text for the assignment linked to"
   ]
  },
  {
   "cell_type": "code",
   "execution_count": null,
   "metadata": {},
   "outputs": [],
   "source": []
  },
  {
   "cell_type": "code",
   "execution_count": null,
   "metadata": {},
   "outputs": [],
   "source": [
    "# 02 Status\n",
    "#Opgaverne formuleret i https://github.com/por964/PythonWk7 er lavet"
   ]
  },
  {
   "cell_type": "markdown",
   "metadata": {},
   "source": [
    "## 03 Solution part 1"
   ]
  },
  {
   "cell_type": "code",
   "execution_count": 7,
   "metadata": {
    "collapsed": true
   },
   "outputs": [
    {
     "ename": "WebDriverException",
     "evalue": "Message: invalid argument: can't kill an exited process\n",
     "output_type": "error",
     "traceback": [
      "\u001b[0;31m---------------------------------------------------------------------------\u001b[0m",
      "\u001b[0;31mWebDriverException\u001b[0m                        Traceback (most recent call last)",
      "\u001b[0;32m<ipython-input-7-81a313dd7c11>\u001b[0m in \u001b[0;36m<module>\u001b[0;34m\u001b[0m\n\u001b[1;32m     46\u001b[0m     \u001b[0;32mreturn\u001b[0m \u001b[0mthis_url\u001b[0m\u001b[0;34m\u001b[0m\u001b[0;34m\u001b[0m\u001b[0m\n\u001b[1;32m     47\u001b[0m \u001b[0;34m\u001b[0m\u001b[0m\n\u001b[0;32m---> 48\u001b[0;31m \u001b[0mprint\u001b[0m\u001b[0;34m(\u001b[0m\u001b[0medc_interaction\u001b[0m\u001b[0;34m(\u001b[0m\u001b[0medc_url\u001b[0m\u001b[0;34m)\u001b[0m\u001b[0;34m)\u001b[0m\u001b[0;34m\u001b[0m\u001b[0;34m\u001b[0m\u001b[0m\n\u001b[0m\u001b[1;32m     49\u001b[0m \u001b[0;34m\u001b[0m\u001b[0m\n",
      "\u001b[0;32m<ipython-input-7-81a313dd7c11>\u001b[0m in \u001b[0;36medc_interaction\u001b[0;34m(municipal)\u001b[0m\n\u001b[1;32m      9\u001b[0m \u001b[0;34m\u001b[0m\u001b[0m\n\u001b[1;32m     10\u001b[0m \u001b[0;32mdef\u001b[0m \u001b[0medc_interaction\u001b[0m\u001b[0;34m(\u001b[0m\u001b[0mmunicipal\u001b[0m\u001b[0;34m)\u001b[0m\u001b[0;34m:\u001b[0m\u001b[0;34m\u001b[0m\u001b[0;34m\u001b[0m\u001b[0m\n\u001b[0;32m---> 11\u001b[0;31m     \u001b[0mbrowser\u001b[0m \u001b[0;34m=\u001b[0m \u001b[0mwebdriver\u001b[0m\u001b[0;34m.\u001b[0m\u001b[0mFirefox\u001b[0m\u001b[0;34m(\u001b[0m\u001b[0;34m)\u001b[0m\u001b[0;34m\u001b[0m\u001b[0;34m\u001b[0m\u001b[0m\n\u001b[0m\u001b[1;32m     12\u001b[0m     \u001b[0mbrowser\u001b[0m\u001b[0;34m.\u001b[0m\u001b[0mget\u001b[0m\u001b[0;34m(\u001b[0m\u001b[0medc_url\u001b[0m\u001b[0;34m)\u001b[0m\u001b[0;34m\u001b[0m\u001b[0;34m\u001b[0m\u001b[0m\n\u001b[1;32m     13\u001b[0m     \u001b[0mbrowser\u001b[0m\u001b[0;34m.\u001b[0m\u001b[0mimplicitly_wait\u001b[0m\u001b[0;34m(\u001b[0m\u001b[0;36m5\u001b[0m\u001b[0;34m)\u001b[0m\u001b[0;34m\u001b[0m\u001b[0;34m\u001b[0m\u001b[0m\n",
      "\u001b[0;32m/opt/conda/lib/python3.7/site-packages/selenium/webdriver/firefox/webdriver.py\u001b[0m in \u001b[0;36m__init__\u001b[0;34m(self, firefox_profile, firefox_binary, timeout, capabilities, proxy, executable_path, options, service_log_path, firefox_options, service_args, desired_capabilities, log_path, keep_alive)\u001b[0m\n\u001b[1;32m    172\u001b[0m                 \u001b[0mcommand_executor\u001b[0m\u001b[0;34m=\u001b[0m\u001b[0mexecutor\u001b[0m\u001b[0;34m,\u001b[0m\u001b[0;34m\u001b[0m\u001b[0;34m\u001b[0m\u001b[0m\n\u001b[1;32m    173\u001b[0m                 \u001b[0mdesired_capabilities\u001b[0m\u001b[0;34m=\u001b[0m\u001b[0mcapabilities\u001b[0m\u001b[0;34m,\u001b[0m\u001b[0;34m\u001b[0m\u001b[0;34m\u001b[0m\u001b[0m\n\u001b[0;32m--> 174\u001b[0;31m                 keep_alive=True)\n\u001b[0m\u001b[1;32m    175\u001b[0m \u001b[0;34m\u001b[0m\u001b[0m\n\u001b[1;32m    176\u001b[0m         \u001b[0;31m# Selenium remote\u001b[0m\u001b[0;34m\u001b[0m\u001b[0;34m\u001b[0m\u001b[0;34m\u001b[0m\u001b[0m\n",
      "\u001b[0;32m/opt/conda/lib/python3.7/site-packages/selenium/webdriver/remote/webdriver.py\u001b[0m in \u001b[0;36m__init__\u001b[0;34m(self, command_executor, desired_capabilities, browser_profile, proxy, keep_alive, file_detector, options)\u001b[0m\n\u001b[1;32m    155\u001b[0m             warnings.warn(\"Please use FirefoxOptions to set browser profile\",\n\u001b[1;32m    156\u001b[0m                           DeprecationWarning, stacklevel=2)\n\u001b[0;32m--> 157\u001b[0;31m         \u001b[0mself\u001b[0m\u001b[0;34m.\u001b[0m\u001b[0mstart_session\u001b[0m\u001b[0;34m(\u001b[0m\u001b[0mcapabilities\u001b[0m\u001b[0;34m,\u001b[0m \u001b[0mbrowser_profile\u001b[0m\u001b[0;34m)\u001b[0m\u001b[0;34m\u001b[0m\u001b[0;34m\u001b[0m\u001b[0m\n\u001b[0m\u001b[1;32m    158\u001b[0m         \u001b[0mself\u001b[0m\u001b[0;34m.\u001b[0m\u001b[0m_switch_to\u001b[0m \u001b[0;34m=\u001b[0m \u001b[0mSwitchTo\u001b[0m\u001b[0;34m(\u001b[0m\u001b[0mself\u001b[0m\u001b[0;34m)\u001b[0m\u001b[0;34m\u001b[0m\u001b[0;34m\u001b[0m\u001b[0m\n\u001b[1;32m    159\u001b[0m         \u001b[0mself\u001b[0m\u001b[0;34m.\u001b[0m\u001b[0m_mobile\u001b[0m \u001b[0;34m=\u001b[0m \u001b[0mMobile\u001b[0m\u001b[0;34m(\u001b[0m\u001b[0mself\u001b[0m\u001b[0;34m)\u001b[0m\u001b[0;34m\u001b[0m\u001b[0;34m\u001b[0m\u001b[0m\n",
      "\u001b[0;32m/opt/conda/lib/python3.7/site-packages/selenium/webdriver/remote/webdriver.py\u001b[0m in \u001b[0;36mstart_session\u001b[0;34m(self, capabilities, browser_profile)\u001b[0m\n\u001b[1;32m    250\u001b[0m         parameters = {\"capabilities\": w3c_caps,\n\u001b[1;32m    251\u001b[0m                       \"desiredCapabilities\": capabilities}\n\u001b[0;32m--> 252\u001b[0;31m         \u001b[0mresponse\u001b[0m \u001b[0;34m=\u001b[0m \u001b[0mself\u001b[0m\u001b[0;34m.\u001b[0m\u001b[0mexecute\u001b[0m\u001b[0;34m(\u001b[0m\u001b[0mCommand\u001b[0m\u001b[0;34m.\u001b[0m\u001b[0mNEW_SESSION\u001b[0m\u001b[0;34m,\u001b[0m \u001b[0mparameters\u001b[0m\u001b[0;34m)\u001b[0m\u001b[0;34m\u001b[0m\u001b[0;34m\u001b[0m\u001b[0m\n\u001b[0m\u001b[1;32m    253\u001b[0m         \u001b[0;32mif\u001b[0m \u001b[0;34m'sessionId'\u001b[0m \u001b[0;32mnot\u001b[0m \u001b[0;32min\u001b[0m \u001b[0mresponse\u001b[0m\u001b[0;34m:\u001b[0m\u001b[0;34m\u001b[0m\u001b[0;34m\u001b[0m\u001b[0m\n\u001b[1;32m    254\u001b[0m             \u001b[0mresponse\u001b[0m \u001b[0;34m=\u001b[0m \u001b[0mresponse\u001b[0m\u001b[0;34m[\u001b[0m\u001b[0;34m'value'\u001b[0m\u001b[0;34m]\u001b[0m\u001b[0;34m\u001b[0m\u001b[0;34m\u001b[0m\u001b[0m\n",
      "\u001b[0;32m/opt/conda/lib/python3.7/site-packages/selenium/webdriver/remote/webdriver.py\u001b[0m in \u001b[0;36mexecute\u001b[0;34m(self, driver_command, params)\u001b[0m\n\u001b[1;32m    319\u001b[0m         \u001b[0mresponse\u001b[0m \u001b[0;34m=\u001b[0m \u001b[0mself\u001b[0m\u001b[0;34m.\u001b[0m\u001b[0mcommand_executor\u001b[0m\u001b[0;34m.\u001b[0m\u001b[0mexecute\u001b[0m\u001b[0;34m(\u001b[0m\u001b[0mdriver_command\u001b[0m\u001b[0;34m,\u001b[0m \u001b[0mparams\u001b[0m\u001b[0;34m)\u001b[0m\u001b[0;34m\u001b[0m\u001b[0;34m\u001b[0m\u001b[0m\n\u001b[1;32m    320\u001b[0m         \u001b[0;32mif\u001b[0m \u001b[0mresponse\u001b[0m\u001b[0;34m:\u001b[0m\u001b[0;34m\u001b[0m\u001b[0;34m\u001b[0m\u001b[0m\n\u001b[0;32m--> 321\u001b[0;31m             \u001b[0mself\u001b[0m\u001b[0;34m.\u001b[0m\u001b[0merror_handler\u001b[0m\u001b[0;34m.\u001b[0m\u001b[0mcheck_response\u001b[0m\u001b[0;34m(\u001b[0m\u001b[0mresponse\u001b[0m\u001b[0;34m)\u001b[0m\u001b[0;34m\u001b[0m\u001b[0;34m\u001b[0m\u001b[0m\n\u001b[0m\u001b[1;32m    322\u001b[0m             response['value'] = self._unwrap_value(\n\u001b[1;32m    323\u001b[0m                 response.get('value', None))\n",
      "\u001b[0;32m/opt/conda/lib/python3.7/site-packages/selenium/webdriver/remote/errorhandler.py\u001b[0m in \u001b[0;36mcheck_response\u001b[0;34m(self, response)\u001b[0m\n\u001b[1;32m    240\u001b[0m                 \u001b[0malert_text\u001b[0m \u001b[0;34m=\u001b[0m \u001b[0mvalue\u001b[0m\u001b[0;34m[\u001b[0m\u001b[0;34m'alert'\u001b[0m\u001b[0;34m]\u001b[0m\u001b[0;34m.\u001b[0m\u001b[0mget\u001b[0m\u001b[0;34m(\u001b[0m\u001b[0;34m'text'\u001b[0m\u001b[0;34m)\u001b[0m\u001b[0;34m\u001b[0m\u001b[0;34m\u001b[0m\u001b[0m\n\u001b[1;32m    241\u001b[0m             \u001b[0;32mraise\u001b[0m \u001b[0mexception_class\u001b[0m\u001b[0;34m(\u001b[0m\u001b[0mmessage\u001b[0m\u001b[0;34m,\u001b[0m \u001b[0mscreen\u001b[0m\u001b[0;34m,\u001b[0m \u001b[0mstacktrace\u001b[0m\u001b[0;34m,\u001b[0m \u001b[0malert_text\u001b[0m\u001b[0;34m)\u001b[0m\u001b[0;34m\u001b[0m\u001b[0;34m\u001b[0m\u001b[0m\n\u001b[0;32m--> 242\u001b[0;31m         \u001b[0;32mraise\u001b[0m \u001b[0mexception_class\u001b[0m\u001b[0;34m(\u001b[0m\u001b[0mmessage\u001b[0m\u001b[0;34m,\u001b[0m \u001b[0mscreen\u001b[0m\u001b[0;34m,\u001b[0m \u001b[0mstacktrace\u001b[0m\u001b[0;34m)\u001b[0m\u001b[0;34m\u001b[0m\u001b[0;34m\u001b[0m\u001b[0m\n\u001b[0m\u001b[1;32m    243\u001b[0m \u001b[0;34m\u001b[0m\u001b[0m\n\u001b[1;32m    244\u001b[0m     \u001b[0;32mdef\u001b[0m \u001b[0m_value_or_default\u001b[0m\u001b[0;34m(\u001b[0m\u001b[0mself\u001b[0m\u001b[0;34m,\u001b[0m \u001b[0mobj\u001b[0m\u001b[0;34m,\u001b[0m \u001b[0mkey\u001b[0m\u001b[0;34m,\u001b[0m \u001b[0mdefault\u001b[0m\u001b[0;34m)\u001b[0m\u001b[0;34m:\u001b[0m\u001b[0;34m\u001b[0m\u001b[0;34m\u001b[0m\u001b[0m\n",
      "\u001b[0;31mWebDriverException\u001b[0m: Message: invalid argument: can't kill an exited process\n"
     ]
    }
   ],
   "source": [
    "import re\n",
    "import urllib.request\n",
    "from selenium import webdriver\n",
    "import bs4\n",
    "from selenium.webdriver.support.ui import WebDriverWait\n",
    "from selenium.webdriver.support import expected_conditions as EC\n",
    "\n",
    "edc_url = 'https://www.edc.dk'\n",
    "\n",
    "def edc_interaction(municipal):\n",
    "    browser = webdriver.Firefox()\n",
    "    browser.get(edc_url)\n",
    "    browser.implicitly_wait(5)\n",
    "\n",
    "    # Accepts cookies:\n",
    "    button_cookies = browser.find_element_by_xpath(\n",
    "        \"//div[@id='coiPage-1']/div[2]/div/button[3]\").click()\n",
    "\n",
    "    # Inputs municipal in search field:\n",
    "    input_area = browser.find_element_by_id(\n",
    "        'TextBoxSearch').send_keys(municipal)\n",
    "\n",
    "    # Clicks dropdown for house type:\n",
    "    dropdown_type = browser.find_element_by_xpath(\n",
    "        '//*[@id=\"form1\"]/div[2]/div/div[2]/div/div/div[2]/div/div[1]/div/div[1]/div/div[2]/div/a').click()\n",
    "\n",
    "    # Selects house type:\n",
    "    checkbox_type = browser.find_element_by_xpath(\n",
    "        '//*[@id=\"form1\"]/div[2]/div/div[2]/div/div/div[2]/div/div[1]/div/div[1]/div/div[2]/div/div/span[1]').click()\n",
    "\n",
    "    # Clicks search button:\n",
    "    button_search = browser.find_element_by_id(\n",
    "        'ContentContentPlaceHolder_MainContentPlaceHolder_ContentAreaNewFrontpage_ctl00_ctl02_ctl00_ctl00_ctl00_ctl01_ctl00_buttonSearch').click()\n",
    "\n",
    "    # Clicks drop-down to select number of results:\n",
    "    browser.find_element_by_xpath(\n",
    "        '//*[@id=\"ContentContentPlaceHolder_MainContentPlaceHolder_ResultSortingAndItemsPerPage_DropDownListItemsPerPage_chosen\"]').click()\n",
    "\n",
    "    # Selects drop-down item to show all results:\n",
    "    browser.find_element_by_xpath(\n",
    "        '//*[@id=\"ContentContentPlaceHolder_MainContentPlaceHolder_ResultSortingAndItemsPerPage_DropDownListItemsPerPage_chosen\"]/div/ul/li[4]').click()\n",
    "\n",
    "    browser.implicitly_wait(5)\n",
    "    this_url = browser.current_url\n",
    "\n",
    "    return this_url\n",
    "\n",
    "print(edc_interaction('gentofte'))\n",
    "\n"
   ]
  },
  {
   "cell_type": "code",
   "execution_count": 14,
   "metadata": {},
   "outputs": [
    {
     "name": "stdout",
     "output_type": "stream",
     "text": [
      "      m²  Grund  Rum  Byggeår  Liggetid  +/-  Pris/m²  Ejerudgifter pr. md.  \\\n",
      "0    167    709    5     1927         4    0    84158                  7064   \n",
      "1    175    893    8     1935         7    0    49774                  8017   \n",
      "2    134    768    4     1935        12    0    37293                  4729   \n",
      "3    197    900    6     1942        20    0    47991                  5193   \n",
      "4    178    847    5     1965        27    0    62162                  8284   \n",
      "..   ...    ...  ...      ...       ...  ...      ...                   ...   \n",
      "119  194   1272    6     1934       195    0    24570                  4253   \n",
      "120  204    812    5     1989   2101095    0    68182                  9463   \n",
      "121  248   1509    5     2009    244309    0    64164                 14158   \n",
      "122  360   1676    8     1916    285564    0    40276                 12573   \n",
      "123  279   1260    8     1934       591    3    26224                  5078   \n",
      "\n",
      "         Pris  \n",
      "0    17000000  \n",
      "1    11000000  \n",
      "2     6750000  \n",
      "3    10750000  \n",
      "4    11500000  \n",
      "..        ...  \n",
      "119   5995000  \n",
      "120  13500000  \n",
      "121  18800000  \n",
      "122  15345000  \n",
      "123   8995000  \n",
      "\n",
      "[124 rows x 9 columns]\n"
     ]
    },
    {
     "data": {
      "image/png": "[encoded data removed]",
      "text/plain": [
       "<Figure size 432x288 with 1 Axes>"
      ]
     },
     "metadata": {
      "needs_background": "light"
     },
     "output_type": "display_data"
    }
   ],
   "source": [
    "import bs4\n",
    "import matplotlib.pyplot as plt\n",
    "import pandas as pd\n",
    "\n",
    "\n",
    "def create_df(element_url):\n",
    "    sauce = urllib.request.urlopen(element_url).read()\n",
    "    soup = bs4.BeautifulSoup(sauce, 'lxml')\n",
    "\n",
    "    prices = soup.select('div[class=propertyitem__price] > strong')\n",
    "    pxs = []\n",
    "\n",
    "    for node in prices:\n",
    "        px = re.sub(r'\\D', '', node.text)\n",
    "        pxs.append(int(px))\n",
    "\n",
    "    house_data = soup.find_all('div', {'class': 'propertyitem__wrapper'})\n",
    "    result = []\n",
    "\n",
    "    def conv_str(s):\n",
    "        num_one = filter(str.isdigit, s)\n",
    "        num_two = \"\".join(num_one)\n",
    "        return int(num_two)\n",
    "\n",
    "    for h in house_data:\n",
    "        sample = h.find_all(\"th\")\n",
    "        sample = [ele.text.strip() for ele in sample]\n",
    "        sample2 = h.find_all(\"td\")\n",
    "        sample2 = [ele.text.strip() for ele in sample2]\n",
    "        vals = [conv_str(s) for s in sample2]\n",
    "        res = {sample[i]: vals[i] for i in range(len(sample))}\n",
    "        result.append(res)\n",
    "\n",
    "    df = pd.DataFrame(result)\n",
    "    df['Pris'] = pxs\n",
    "\n",
    "    return df\n",
    "\n",
    "def show_plot(dataframe, municipal):\n",
    "    low = dataframe.loc[dataframe['Pris'] < 2000001]['Pris']\n",
    "    mid = dataframe.loc[dataframe[\"Pris\"].between(\n",
    "        2000001, 5000000, inclusive=True)]['Pris']\n",
    "    high = dataframe.loc[(dataframe[\"Pris\"] > 5000000)]['Pris']\n",
    "\n",
    "    low_count = len(low.index)\n",
    "    mid_count = len(mid.index)\n",
    "    high_count = len(high.index)\n",
    "\n",
    "    d = {\"> 2 mio.\": low_count, \"2-5 mio.\": mid_count, \"< 5 mio.\": high_count}\n",
    "\n",
    "    plt.bar(range(len(d)), list(d.values()), align='center')\n",
    "    plt.xticks(range(len(d)), list(d.keys()))\n",
    "    plt.ylabel('Count')\n",
    "    plt.xlabel('Price range')\n",
    "    plt.suptitle(municipal)\n",
    "    plt.show()\n",
    "    \n",
    "def calculate(dataframe, municipal):\n",
    "    print(\"Average sales price in \" + municipal + \": \")\n",
    "    print(dataframe[\"Pris\"].mean())\n",
    "\n",
    "    print(\"Average sales period in \" + municipal + \": \")\n",
    "    print(dataframe[\"Liggetid\"].mean())\n",
    "\n",
    "\n",
    "my_df = create_df('https://www.edc.dk/sog/?kommune=gentofte&ejd-typer=1&antal=1000&side=1#lstsort')\n",
    "print(my_df)\n",
    "\n",
    "show_plot(my_df, 'gentofte')\n",
    "\n"
   ]
  },
  {
   "cell_type": "code",
   "execution_count": 3,
   "metadata": {
    "collapsed": true
   },
   "outputs": [
    {
     "ename": "NameError",
     "evalue": "name 'file_name' is not defined",
     "output_type": "error",
     "traceback": [
      "\u001b[0;31m---------------------------------------------------------------------------\u001b[0m",
      "\u001b[0;31mNameError\u001b[0m                                 Traceback (most recent call last)",
      "\u001b[0;32m<ipython-input-3-e5c8c61dde92>\u001b[0m in \u001b[0;36m<module>\u001b[0;34m\u001b[0m\n\u001b[0;32m----> 1\u001b[0;31m \u001b[0mtc\u001b[0m\u001b[0;34m.\u001b[0m\u001b[0mavg_vowels\u001b[0m\u001b[0;34m(\u001b[0m\u001b[0;34m'data/244-0.txt'\u001b[0m\u001b[0;34m)\u001b[0m\u001b[0;34m\u001b[0m\u001b[0;34m\u001b[0m\u001b[0m\n\u001b[0m",
      "\u001b[0;32m~/handin/modules/text_comparer.py\u001b[0m in \u001b[0;36mavg_vowels\u001b[0;34m(self, text)\u001b[0m\n\u001b[1;32m     56\u001b[0m         \u001b[0mvowels\u001b[0m \u001b[0;34m=\u001b[0m \u001b[0mset\u001b[0m\u001b[0;34m(\u001b[0m\u001b[0;34m\"AEIOUaeiou\"\u001b[0m\u001b[0;34m)\u001b[0m\u001b[0;34m\u001b[0m\u001b[0;34m\u001b[0m\u001b[0m\n\u001b[1;32m     57\u001b[0m         \u001b[0mcount\u001b[0m \u001b[0;34m=\u001b[0m \u001b[0;36m0\u001b[0m\u001b[0;34m\u001b[0m\u001b[0;34m\u001b[0m\u001b[0m\n\u001b[0;32m---> 58\u001b[0;31m         with codecs.open(file_name, 'r', encoding='utf-8',\n\u001b[0m\u001b[1;32m     59\u001b[0m                          errors='ignore') as file_object:\n\u001b[1;32m     60\u001b[0m             \u001b[0mcontent\u001b[0m \u001b[0;34m=\u001b[0m \u001b[0mfile_object\u001b[0m\u001b[0;34m.\u001b[0m\u001b[0mread\u001b[0m\u001b[0;34m(\u001b[0m\u001b[0;34m)\u001b[0m\u001b[0;34m\u001b[0m\u001b[0;34m\u001b[0m\u001b[0m\n",
      "\u001b[0;31mNameError\u001b[0m: name 'file_name' is not defined"
     ]
    }
   ],
   "source": [
    "\n",
    "\n"
   ]
  },
  {
   "cell_type": "code",
   "execution_count": 4,
   "metadata": {
    "collapsed": true
   },
   "outputs": [
    {
     "name": "stdout",
     "output_type": "stream",
     "text": [
      "15762\n",
      "46894\n",
      "25549\n",
      "77448\n",
      "<generator object _chain_from_iterable_of_lists at 0x7fb8e6273bd0>\n"
     ]
    }
   ],
   "source": []
  }
 ],
 "metadata": {
  "kernelspec": {
   "display_name": "Python 3",
   "language": "python",
   "name": "python3"
  },
  "language_info": {
   "codemirror_mode": {
    "name": "ipython",
    "version": 3
   },
   "file_extension": ".py",
   "mimetype": "text/x-python",
   "name": "python",
   "nbconvert_exporter": "python",
   "pygments_lexer": "ipython3",
   "version": "3.7.6"
  }
 },
 "nbformat": 4,
 "nbformat_minor": 4
}
